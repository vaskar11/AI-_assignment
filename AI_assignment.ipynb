{
 "cells": [
  {
   "cell_type": "markdown",
   "id": "d4c52be8",
   "metadata": {},
   "source": [
    "# Python Assignment"
   ]
  },
  {
   "cell_type": "markdown",
   "id": "3915cccd",
   "metadata": {},
   "source": [
    "### 1. Write a program to find prime number with in a range using function."
   ]
  },
  {
   "cell_type": "code",
   "execution_count": 1,
   "id": "fc366b47",
   "metadata": {},
   "outputs": [
    {
     "name": "stdout",
     "output_type": "stream",
     "text": [
      "Enter lower value: 2\n",
      "Enter upper value: 10\n",
      "2\n",
      "3\n",
      "5\n",
      "7\n"
     ]
    }
   ],
   "source": [
    "def is_Prime(n):\n",
    "    count = 0\n",
    "    n = int(n)\n",
    "    for i in range(2, n+1):\n",
    "        if (n % i == 0):\n",
    "            count += 1\n",
    "    \n",
    "    if count == 1:\n",
    "        return 1\n",
    "    else:\n",
    "        return 0\n",
    "\n",
    "x = int(input(\"Enter lower value: \"))\n",
    "y = int(input(\"Enter upper value: \"))\n",
    "\n",
    "for i in range(x, y+1):\n",
    "    if is_Prime(i):\n",
    "        print(i)\n"
   ]
  },
  {
   "cell_type": "markdown",
   "id": "3b790322",
   "metadata": {},
   "source": [
    "### 2. Write a program to check palindrom"
   ]
  },
  {
   "cell_type": "code",
   "execution_count": 2,
   "id": "a57026be",
   "metadata": {},
   "outputs": [
    {
     "name": "stdout",
     "output_type": "stream",
     "text": [
      "enter data:112233\n",
      "Not Palindrome\n"
     ]
    }
   ],
   "source": [
    "def is_Pal(x):\n",
    "    if x == x[::-1] :\n",
    "        return 1\n",
    "    else :\n",
    "        return 0\n",
    "\n",
    "\n",
    "\n",
    "y = input(\"enter data:\")\n",
    "if(type(y)== int):\n",
    "    y = str(y)\n",
    "if is_Pal(y):\n",
    "    print(\"Palindrome\")\n",
    "else:\n",
    "    print(\"Not Palindrome\")"
   ]
  },
  {
   "cell_type": "markdown",
   "id": "f7ba025f",
   "metadata": {},
   "source": [
    "### 3 Write a program to check fibonacci series of given number"
   ]
  },
  {
   "cell_type": "code",
   "execution_count": 3,
   "id": "3566b11a",
   "metadata": {},
   "outputs": [
    {
     "name": "stdout",
     "output_type": "stream",
     "text": [
      "enter the  number10\n",
      "fibonacci numbers are:\n",
      "0\n",
      "1\n",
      "1\n",
      "2\n",
      "3\n",
      "5\n",
      "8\n",
      "13\n",
      "21\n",
      "34\n"
     ]
    }
   ],
   "source": [
    "def fiboo(n):\n",
    "    a=0\n",
    "    b=1\n",
    "    print('fibonacci numbers are:')\n",
    "    for i in range(n):\n",
    "        print(a)\n",
    "        c=a+b\n",
    "        a=b\n",
    "        b=c\n",
    "\n",
    "x = input(\"enter the  number\")\n",
    "fiboo(int(x))"
   ]
  },
  {
   "cell_type": "markdown",
   "id": "e73184ee",
   "metadata": {},
   "source": [
    "### 4. Number guessing game"
   ]
  },
  {
   "cell_type": "code",
   "execution_count": 4,
   "id": "5a171c3b",
   "metadata": {},
   "outputs": [
    {
     "name": "stdout",
     "output_type": "stream",
     "text": [
      "Welcome to the Number Guessing Game!\n",
      "I have selected a number between 1 and 100. Can you guess it?\n",
      "Enter your guess: 20\n",
      "Too low! Try again.\n",
      "Enter your guess: 30\n",
      "Too low! Try again.\n",
      "Enter your guess: 50\n",
      "Too high! Try again.\n",
      "Enter your guess: 40\n",
      "Too high! Try again.\n",
      "Enter your guess: 335\n",
      "Too high! Try again.\n",
      "Enter your guess: 35\n",
      "Too high! Try again.\n",
      "Enter your guess: 32\n",
      "Too low! Try again.\n",
      "Enter your guess: 33\n",
      "Too low! Try again.\n",
      "Enter your guess: 34\n",
      "Congratulations! You guessed the number in 9 attempts.\n"
     ]
    }
   ],
   "source": [
    "import random\n",
    "def guess_the_number():\n",
    "    secret_number = random.randint(1, 100)\n",
    "    attempts = 0\n",
    "    \n",
    "    print(\"Welcome to the Number Guessing Game!\")\n",
    "    print(\"I have selected a number between 1 and 100. Can you guess it?\")\n",
    "    \n",
    "    while True:\n",
    "        try:\n",
    "            guess = int(input(\"Enter your guess: \"))\n",
    "            attempts += 1\n",
    "\n",
    "            if guess == secret_number:\n",
    "                print(f\"Congratulations! You guessed the number in {attempts} attempts.\")\n",
    "                break\n",
    "            elif guess < secret_number:\n",
    "                print(\"Too low! Try again.\")\n",
    "            else:\n",
    "                print(\"Too high! Try again.\")\n",
    "        except ValueError:\n",
    "            print(\"Please enter a valid number.\")\n",
    "\n",
    "if __name__ == \"__main__\":\n",
    "    guess_the_number()\n"
   ]
  },
  {
   "cell_type": "code",
   "execution_count": null,
   "id": "b047ed63",
   "metadata": {},
   "outputs": [],
   "source": []
  }
 ],
 "metadata": {
  "kernelspec": {
   "display_name": "Python 3 (ipykernel)",
   "language": "python",
   "name": "python3"
  },
  "language_info": {
   "codemirror_mode": {
    "name": "ipython",
    "version": 3
   },
   "file_extension": ".py",
   "mimetype": "text/x-python",
   "name": "python",
   "nbconvert_exporter": "python",
   "pygments_lexer": "ipython3",
   "version": "3.11.5"
  }
 },
 "nbformat": 4,
 "nbformat_minor": 5
}
